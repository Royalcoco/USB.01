{
 "cells": [
  {
   "cell_type": "code",
   "execution_count": null,
   "metadata": {},
   "outputs": [],
   "source": [
    ":<<<<<<<<<<<<<<<<<<<<<<<<<<<<<<<<<<<<print<<<<<<<<<<<<<<<<<<<<<<<<<<<<<<<<<\"print\"<<<<<<<<<<<<<<<<normals<<<<<<<<<<<<<<<<<<<<<<<<<<<\"print\"<<<<<<<<<<<<<<<<<<<<<<<<<<<<<<<\"print\"<<<<<<<<<<<<<<<<\n",
    "\n",
    "\n",
    "#print(os.getcwd()) \n",
    "\n",
    "#print(os.path.dirname(os.path.abspath(__file__)))  \n",
    ":#////////////////////////////////print(os.path.dirname(os.path.abspath(__file__)))//////////////////////////////////\n",
    "    \n",
    "    __doc__file = open(os.path.dirname(os.path.abspath(__file__)) + \"/  \"docpath.txt\", \"r\")\n",
    "                       unitable = open(os.path.dirname(os.path.docname(os.path.abspath(__file__))) + \"/  \"unitable.txt\", \"\n",
    "                       @ __package__name__ + \" \" + __package__name__ + \" \" + __package__name__\n",
    "                       @Toothpaste#e'snake_foolness'_*pty.//-M/__package__name__ + \" \" + __package__name__"
   ]
  },
  {
   "attachments": {},
   "cell_type": "markdown",
   "metadata": {},
   "source": [
    "://Unstoppable/conduit/src/main/java/com/unstoppable/conduit/core/Flow_ca-------------------------------------[$=.s];---------------------------------------------ch_back.$flow.com$"
   ]
  }
 ],
 "metadata": {
  "kernelspec": {
   "display_name": "Python 3",
   "language": "python",
   "name": "python3"
  },
  "language_info": {
   "name": "python",
   "version": "3.11.3"
  },
  "orig_nbformat": 4
 },
 "nbformat": 4,
 "nbformat_minor": 2
}
