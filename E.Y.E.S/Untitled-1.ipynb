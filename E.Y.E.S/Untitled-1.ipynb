{
 "cells": [
  {
   "cell_type": "code",
   "execution_count": null,
   "metadata": {},
   "outputs": [],
   "source": [
    "server.#32<<<<<<<<<<<<<<<<<<<<<<<<<<<<<<<<mondiale.c42  color.bached. log*25 offspring.empty\n",
    "\n",
    "server.#32<<<<<<<<<<<<<<<<<<<<<<<<<<<<<<<<mondiale.c42  color.bached. log*25 offspring.empty    "
   ]
  }
 ],
 "metadata": {
  "language_info": {
   "name": "python"
  },
  "orig_nbformat": 4
 },
 "nbformat": 4,
 "nbformat_minor": 2
}
